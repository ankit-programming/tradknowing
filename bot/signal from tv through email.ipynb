{
 "cells": [
  {
   "cell_type": "code",
   "execution_count": 85,
   "id": "7daa1095",
   "metadata": {},
   "outputs": [],
   "source": [
    "from datetime import datetime\n",
    "import easyimap as e\n",
    "from iqoptionapi.stable_api import IQ_Option"
   ]
  },
  {
   "cell_type": "code",
   "execution_count": 86,
   "id": "1ae49c41",
   "metadata": {},
   "outputs": [],
   "source": [
    "email = \"tsignalmail@gmail.com\"\n",
    "passward = \"ztipkqtxgltshpqh\"\n",
    "server = e.connect('imap.gmail.com',email,passward)\n",
    "\n",
    "api=IQ_Option(\"tsignalmail@gmail.com\",\"ankitsaini2003\")\n",
    "api.connect()#connect to iqoption\n",
    "\n",
    "now = datetime.now()"
   ]
  },
  {
   "cell_type": "code",
   "execution_count": 87,
   "id": "5e5208dd",
   "metadata": {},
   "outputs": [],
   "source": [
    "Money=1\n",
    "expirations_mode=1"
   ]
  },
  {
   "cell_type": "code",
   "execution_count": 88,
   "id": "58610b7c",
   "metadata": {},
   "outputs": [],
   "source": [
    "def place_order():\n",
    "\n",
    "    #server.listids()                                                     #for selcting all email present\n",
    "    email = server.mail(server.listids(limit=1, criterion=None)[0])      #selecting top 1 email\n",
    "    data = email.body                                                   #taking title of the email\n",
    "    str_data = data.split()                                              #data will come in string so splitng it and making it in list to to make readin easy\n",
    "    \n",
    "    \n",
    "    t = email.date\n",
    "    t1 = t.split()\n",
    "    t2 = t1[4].split(\":\")\n",
    "    try:\n",
    "        if len(str_data) > 650:\n",
    "            fd = str_data[666-1].split(\">\")\n",
    "            fd2 = fd[1].split(\"<\")\n",
    "            ACTIVES = str_data[345-1].split(\">\")\n",
    "            \n",
    "            if fd2[0] == \"up\":\n",
    "                if int(t2[1])+1 > int(now.strftime(\"%M\")):\n",
    "                    print(\"trade up\")\n",
    "                    api.buy(Money,ACTIVES[0],\"call\",expirations_mode)\n",
    "                    #time.sleep(60)\n",
    "\n",
    "            elif fd2[0] == \"down\":\n",
    "                if int(t2[1])+1 > int(now.strftime(\"%M\")):\n",
    "                    print(\"trade down\")\n",
    "                    api.buy(Money,ACTIVES[0],\"put\",expirations_mode)\n",
    "                    #time.sleep(60)\n",
    "                \n",
    "\n",
    "        else :\n",
    "            print(\"not a trade signal\")\n",
    "            \n",
    "    except:\n",
    "        print(\"no signal exception ~!\")\n",
    "    #taking time of email:so if one alert signal is used angin trade will not place"
   ]
  },
  {
   "cell_type": "code",
   "execution_count": 89,
   "id": "5cdd0bb8",
   "metadata": {},
   "outputs": [
    {
     "name": "stdout",
     "output_type": "stream",
     "text": [
      "trade down\n",
      "no signal exception ~!\n"
     ]
    }
   ],
   "source": [
    "place_order()"
   ]
  },
  {
   "cell_type": "code",
   "execution_count": 90,
   "id": "985055b2",
   "metadata": {},
   "outputs": [
    {
     "name": "stdout",
     "output_type": "stream",
     "text": [
      "placing trade\n"
     ]
    }
   ],
   "source": [
    "if int(t2[1])+1 > int(now.strftime(\"%M\")):\n",
    "    print(\"placing trade\")"
   ]
  },
  {
   "cell_type": "code",
   "execution_count": null,
   "id": "0c04f0e2",
   "metadata": {},
   "outputs": [],
   "source": []
  }
 ],
 "metadata": {
  "kernelspec": {
   "display_name": "Python 3 (ipykernel)",
   "language": "python",
   "name": "python3"
  },
  "language_info": {
   "codemirror_mode": {
    "name": "ipython",
    "version": 3
   },
   "file_extension": ".py",
   "mimetype": "text/x-python",
   "name": "python",
   "nbconvert_exporter": "python",
   "pygments_lexer": "ipython3",
   "version": "3.10.7"
  },
  "vscode": {
   "interpreter": {
    "hash": "9419d55c3e09d22df287d45d572966561dcf695b98d671e59e0068e20fd07806"
   }
  }
 },
 "nbformat": 4,
 "nbformat_minor": 5
}
